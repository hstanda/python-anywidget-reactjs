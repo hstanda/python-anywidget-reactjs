{
 "cells": [
  {
   "cell_type": "code",
   "execution_count": 1,
   "id": "05a7c4fd",
   "metadata": {
    "scrolled": true
   },
   "outputs": [],
   "source": [
    "from widget import CounterWidget\n",
    "w = CounterWidget()"
   ]
  }
 ],
 "metadata": {
  "kernelspec": {
   "display_name": "Python 3 (ipykernel)",
   "language": "python",
   "name": "python3"
  },
  "language_info": {
   "codemirror_mode": {
    "name": "ipython",
    "version": 3
   },
   "file_extension": ".py",
   "mimetype": "text/x-python",
   "name": "python",
   "nbconvert_exporter": "python",
   "pygments_lexer": "ipython3",
   "version": "3.13.3"
  }
 },
 "nbformat": 4,
 "nbformat_minor": 5
}
